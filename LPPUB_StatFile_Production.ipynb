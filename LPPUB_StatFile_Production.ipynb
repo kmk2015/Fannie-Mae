{
 "cells": [
  {
   "cell_type": "markdown",
   "id": "a19fb875",
   "metadata": {},
   "source": [
    "## This file is a python version of the LPPUB_StatFile_Production.R published by Fannie Mae at this website\n",
    "https://capitalmarkets.fanniemae.com/credit-risk-transfer/single-family-credit-risk-transfer/fannie-mae-single-family-loan-performance-data"
   ]
  },
  {
   "cell_type": "markdown",
   "id": "8090e859",
   "metadata": {},
   "source": [
    "### The output of this file should very closely match the output from the R code by Fannie Mae. The minor differences occur because of how the Fannie Mae R code handles blank spaces. This can be verified by reproducing the statistical summary tables which I did for the year 2007."
   ]
  },
  {
   "cell_type": "markdown",
   "id": "ba9d3ee4",
   "metadata": {},
   "source": [
    "#### This code is not commented extensively but one should be able to follow along if they understand the original Fannie Mae R code."
   ]
  },
  {
   "cell_type": "code",
   "execution_count": 1,
   "id": "5a520fd6",
   "metadata": {},
   "outputs": [],
   "source": [
    "import pandas as pd\n",
    "import datetime as datetime\n",
    "#import dask.dataframe as dd\n",
    "import numpy as np"
   ]
  },
  {
   "cell_type": "markdown",
   "id": "b31e3e1f",
   "metadata": {},
   "source": [
    "### Read in the CRT File Layout to get Column types"
   ]
  },
  {
   "cell_type": "code",
   "execution_count": 2,
   "id": "2596bee2",
   "metadata": {},
   "outputs": [
    {
     "name": "stdout",
     "output_type": "stream",
     "text": [
      "<class 'pandas.core.frame.DataFrame'>\n",
      "RangeIndex: 108 entries, 0 to 107\n",
      "Data columns (total 10 columns):\n",
      " #   Column                               Non-Null Count  Dtype \n",
      "---  ------                               --------------  ----- \n",
      " 0   Field Position                       108 non-null    int64 \n",
      " 1   Field Name                           108 non-null    object\n",
      " 2   Description                          108 non-null    object\n",
      " 3   Date Bound Notes                     34 non-null     object\n",
      " 4   Respective Disclosure Notes          76 non-null     object\n",
      " 5   CAS                                  94 non-null     object\n",
      " 6   CIRT                                 106 non-null    object\n",
      " 7   Single-Family (SF) Loan Performance  70 non-null     object\n",
      " 8   Type                                 108 non-null    object\n",
      " 9   Max Length                           108 non-null    object\n",
      "dtypes: int64(1), object(9)\n",
      "memory usage: 8.6+ KB\n"
     ]
    }
   ],
   "source": [
    "df_file_desc = pd.read_excel('crt-file-layout-and-glossary.xlsx',sheet_name = 'Combined Glossary' )\n",
    "\n",
    "df_file_desc.info()"
   ]
  },
  {
   "cell_type": "code",
   "execution_count": 3,
   "id": "4eaaaa5d",
   "metadata": {},
   "outputs": [],
   "source": [
    "list_fannie_colnames = [\"POOL_ID\", \"LOAN_ID\", \"ACT_PERIOD\", \"CHANNEL\", \"SELLER\", \"SERVICER\",\n",
    "                        \"MASTER_SERVICER\", \"ORIG_RATE\", \"CURR_RATE\", \"ORIG_UPB\", \"ISSUANCE_UPB\",\n",
    "                        \"CURRENT_UPB\", \"ORIG_TERM\", \"ORIG_DATE\", \"FIRST_PAY\", \"LOAN_AGE\",\n",
    "                        \"REM_MONTHS\", \"ADJ_REM_MONTHS\", \"MATR_DT\", \"OLTV\", \"OCLTV\",\n",
    "                        \"NUM_BO\", \"DTI\", \"CSCORE_B\", \"CSCORE_C\", \"FIRST_FLAG\", \"PURPOSE\",\n",
    "                        \"PROP\", \"NO_UNITS\", \"OCC_STAT\", \"STATE\", \"MSA\", \"ZIP\", \"MI_PCT\",\n",
    "                        \"PRODUCT\", \"PPMT_FLG\", \"IO\", \"FIRST_PAY_IO\", \"MNTHS_TO_AMTZ_IO\",\n",
    "                        \"DLQ_STATUS\", \"PMT_HISTORY\", \"MOD_FLAG\", \"MI_CANCEL_FLAG\", \"Zero_Bal_Code\",\n",
    "                        \"ZB_DTE\", \"LAST_UPB\", \"RPRCH_DTE\", \"CURR_SCHD_PRNCPL\", \"TOT_SCHD_PRNCPL\",\n",
    "                        \"UNSCHD_PRNCPL_CURR\", \"LAST_PAID_INSTALLMENT_DATE\", \"FORECLOSURE_DATE\",\n",
    "                        \"DISPOSITION_DATE\", \"FORECLOSURE_COSTS\", \"PROPERTY_PRESERVATION_AND_REPAIR_COSTS\",\n",
    "                        \"ASSET_RECOVERY_COSTS\", \"MISCELLANEOUS_HOLDING_EXPENSES_AND_CREDITS\",\n",
    "                        \"ASSOCIATED_TAXES_FOR_HOLDING_PROPERTY\", \"NET_SALES_PROCEEDS\",\n",
    "                        \"CREDIT_ENHANCEMENT_PROCEEDS\", \"REPURCHASES_MAKE_WHOLE_PROCEEDS\",\n",
    "                        \"OTHER_FORECLOSURE_PROCEEDS\", \"NON_INTEREST_BEARING_UPB\", \"PRINCIPAL_FORGIVENESS_AMOUNT\",\n",
    "                        \"ORIGINAL_LIST_START_DATE\", \"ORIGINAL_LIST_PRICE\", \"CURRENT_LIST_START_DATE\",\n",
    "                        \"CURRENT_LIST_PRICE\", \"ISSUE_SCOREB\", \"ISSUE_SCOREC\", \"CURR_SCOREB\",\n",
    "                        \"CURR_SCOREC\", \"MI_TYPE\", \"SERV_IND\", \"CURRENT_PERIOD_MODIFICATION_LOSS_AMOUNT\",\n",
    "                        \"CUMULATIVE_MODIFICATION_LOSS_AMOUNT\", \"CURRENT_PERIOD_CREDIT_EVENT_NET_GAIN_OR_LOSS\",\n",
    "                        \"CUMULATIVE_CREDIT_EVENT_NET_GAIN_OR_LOSS\", \"HOMEREADY_PROGRAM_INDICATOR\",\n",
    "                        \"FORECLOSURE_PRINCIPAL_WRITE_OFF_AMOUNT\", \"RELOCATION_MORTGAGE_INDICATOR\",\n",
    "                        \"ZERO_BALANCE_CODE_CHANGE_DATE\", \"LOAN_HOLDBACK_INDICATOR\", \"LOAN_HOLDBACK_EFFECTIVE_DATE\",\n",
    "                        \"DELINQUENT_ACCRUED_INTEREST\", \"PROPERTY_INSPECTION_WAIVER_INDICATOR\",\n",
    "                        \"HIGH_BALANCE_LOAN_INDICATOR\", \"ARM_5_YR_INDICATOR\", \"ARM_PRODUCT_TYPE\",\n",
    "                        \"MONTHS_UNTIL_FIRST_PAYMENT_RESET\", \"MONTHS_BETWEEN_SUBSEQUENT_PAYMENT_RESET\",\n",
    "                        \"INTEREST_RATE_CHANGE_DATE\", \"PAYMENT_CHANGE_DATE\", \"ARM_INDEX\",\n",
    "                        \"ARM_CAP_STRUCTURE\", \"INITIAL_INTEREST_RATE_CAP\", \"PERIODIC_INTEREST_RATE_CAP\",\n",
    "                        \"LIFETIME_INTEREST_RATE_CAP\", \"MARGIN\", \"BALLOON_INDICATOR\",\n",
    "                        \"PLAN_NUMBER\", \"FORBEARANCE_INDICATOR\", \"HIGH_LOAN_TO_VALUE_HLTV_REFINANCE_OPTION_INDICATOR\",\n",
    "                        \"DEAL_NAME\", \"RE_PROCS_FLAG\", \"ADR_TYPE\", \"ADR_COUNT\", \"ADR_UPB\"]"
   ]
  },
  {
   "cell_type": "code",
   "execution_count": null,
   "id": "52d6501c",
   "metadata": {},
   "outputs": [],
   "source": []
  },
  {
   "cell_type": "code",
   "execution_count": 4,
   "id": "ffbb341f",
   "metadata": {},
   "outputs": [],
   "source": [
    "list_variable_types = list(df_file_desc['Type'].values)\n",
    "dict_column_types = dict(zip(range(len(list_fannie_colnames)),list_variable_types))\n"
   ]
  },
  {
   "cell_type": "code",
   "execution_count": 5,
   "id": "82fc5416",
   "metadata": {},
   "outputs": [],
   "source": [
    "list_date_cols = []\n",
    "list_numeric_cols = []\n",
    "list_obj_cols=[]\n",
    "for key,value in dict_column_types.items():\n",
    "    if value.strip().lower() =='alpha-numeric':\n",
    "        list_obj_cols.append(key)\n",
    "        dict_column_types[key]=str\n",
    "    if value.strip().lower() =='numeric':\n",
    "        dict_column_types[key]=float\n",
    "        list_numeric_cols.append(key)\n",
    "    if value.strip().lower() =='date':\n",
    "        dict_column_types[key]=str\n",
    "        list_date_cols.append(key)"
   ]
  },
  {
   "cell_type": "code",
   "execution_count": 6,
   "id": "ddc27548",
   "metadata": {},
   "outputs": [],
   "source": [
    "list_acquisition_cols =['LOAN_ID', 'ACT_PERIOD', 'CHANNEL', 'SELLER', 'ORIG_RATE', 'ORIG_UPB',\n",
    "                         'ORIG_TERM', 'ORIG_DATE', 'FIRST_PAY', 'OLTV',\n",
    "                         'OCLTV', 'NUM_BO', 'DTI', 'CSCORE_B', 'CSCORE_C',\n",
    "                         'FIRST_FLAG', 'PURPOSE', 'PROP', 'NO_UNITS', 'OCC_STAT',\n",
    "                         'STATE', 'ZIP', 'MI_PCT', 'PRODUCT', 'MI_TYPE',\n",
    "                         'RELOCATION_MORTGAGE_INDICATOR']"
   ]
  },
  {
   "cell_type": "code",
   "execution_count": 7,
   "id": "8bae8432",
   "metadata": {},
   "outputs": [],
   "source": [
    "list_acq_firstperiod_cols=['LOAN_ID','ORIG_CHN','SELLER', 'orig_rt', 'orig_amt','orig_trm', 'orig_date', \\\n",
    "                         'first_pay', 'oltv','ocltv', 'num_bo', 'dti', 'CSCORE_B', 'CSCORE_C','FTHB_FLG', \\\n",
    "                         'purpose', 'PROP_TYP', 'NUM_UNIT', 'occ_stat','state', 'zip_3', 'mi_pct', 'prod_type', \\\n",
    "                         'MI_TYPE','relo_flg']"
   ]
  },
  {
   "cell_type": "code",
   "execution_count": 8,
   "id": "aa04ea08",
   "metadata": {},
   "outputs": [],
   "source": [
    "list_performance_cols = ['LOAN_ID', 'ACT_PERIOD', 'SERVICER', 'CURR_RATE', 'CURRENT_UPB','LOAN_AGE', 'REM_MONTHS',\n",
    "                          'ADJ_REM_MONTHS', 'MATR_DT', 'MSA','DLQ_STATUS', 'MOD_FLAG', 'Zero_Bal_Code', 'ZB_DTE', \n",
    "                          'LAST_PAID_INSTALLMENT_DATE','FORECLOSURE_DATE', 'DISPOSITION_DATE', 'FORECLOSURE_COSTS',\n",
    "                          'PROPERTY_PRESERVATION_AND_REPAIR_COSTS','ASSET_RECOVERY_COSTS',\n",
    "                            'MISCELLANEOUS_HOLDING_EXPENSES_AND_CREDITS', 'ASSOCIATED_TAXES_FOR_HOLDING_PROPERTY', \n",
    "                          'NET_SALES_PROCEEDS', 'CREDIT_ENHANCEMENT_PROCEEDS', 'REPURCHASES_MAKE_WHOLE_PROCEEDS',\n",
    "                          'OTHER_FORECLOSURE_PROCEEDS', 'NON_INTEREST_BEARING_UPB', 'PRINCIPAL_FORGIVENESS_AMOUNT',\n",
    "                          'repch_flag', 'LAST_UPB']"
   ]
  },
  {
   "cell_type": "code",
   "execution_count": 9,
   "id": "16204e70",
   "metadata": {},
   "outputs": [],
   "source": [
    "dict_rename_acq_cols ={'CHANNEL':'ORIG_CHN','ORIG_RATE':'orig_rt',\n",
    "                    'ORIG_UPB':'orig_amt','ORIG_TERM':'orig_trm',\\\n",
    "                    'ORIG_DATE':'orig_date','FIRST_PAY':'first_pay','OLTV':'oltv','OCLTV':'ocltv',\\\n",
    "                    'NUM_BO':'num_bo','DTI':'dti','FIRST_FLAG':'FTHB_FLG', 'PURPOSE':'purpose', \\\n",
    "                    'PROP':'PROP_TYP','NO_UNITS':'NUM_UNIT', 'OCC_STAT':'occ_stat' , 'STATE':'state',\\\n",
    "                    'ZIP':'zip_3','MI_PCT':'mi_pct', 'PRODUCT':'prod_type',\n",
    "                    'RELOCATION_MORTGAGE_INDICATOR':'relo_flg'}\n"
   ]
  },
  {
   "cell_type": "code",
   "execution_count": null,
   "id": "4db6346c",
   "metadata": {
    "scrolled": true
   },
   "outputs": [],
   "source": []
  },
  {
   "cell_type": "code",
   "execution_count": 10,
   "id": "e5a7fca2",
   "metadata": {},
   "outputs": [],
   "source": [
    "dict_rename_perf_cols = {'ACT_PERIOD':'period','SERVICER':'servicer','CURR_RATE':'curr_rte','CURRENT_UPB':'act_upb',\\\n",
    "                    'LOAN_AGE':'loan_age','REM_MONTHS':'rem_mths','ADJ_REM_MONTHS':'adj_rem_months',\\\n",
    "                    'MATR_DT':'maturity_date','MSA':'msa','DLQ_STATUS':'dlq_status', 'MOD_FLAG':'mod_ind',\\\n",
    "                    'Zero_Bal_Code':'z_zb_code','ZB_DTE':'zb_date','LAST_PAID_INSTALLMENT_DATE':'lpi_dte',\\\n",
    "                    'FORECLOSURE_DATE':'fcc_dte', 'DISPOSITION_DATE':'disp_dte', 'FORECLOSURE_COSTS':'FCC_COST',\\\n",
    "                    'PROPERTY_PRESERVATION_AND_REPAIR_COSTS':'PP_COST', 'ASSET_RECOVERY_COSTS':'AR_COST', \\\n",
    "                    'MISCELLANEOUS_HOLDING_EXPENSES_AND_CREDITS':'IE_COST',\\\n",
    "                    'ASSOCIATED_TAXES_FOR_HOLDING_PROPERTY':'TAX_COST', 'NET_SALES_PROCEEDS':'NS_PROCS', \\\n",
    "                    'CREDIT_ENHANCEMENT_PROCEEDS':'CE_PROCS', 'REPURCHASES_MAKE_WHOLE_PROCEEDS':'RMW_PROCS', \\\n",
    "                    'OTHER_FORECLOSURE_PROCEEDS':'O_PROCS', 'NON_INTEREST_BEARING_UPB':'non_int_upb', \\\n",
    "                    'PRINCIPAL_FORGIVENESS_AMOUNT':'prin_forg_upb', 'LAST_UPB':'zb_upb'}"
   ]
  },
  {
   "cell_type": "code",
   "execution_count": 11,
   "id": "5eec61a2",
   "metadata": {},
   "outputs": [
    {
     "data": {
      "text/plain": [
       "['CHANNEL',\n",
       " 'ORIG_RATE',\n",
       " 'ORIG_UPB',\n",
       " 'ORIG_TERM',\n",
       " 'ORIG_DATE',\n",
       " 'FIRST_PAY',\n",
       " 'OLTV',\n",
       " 'OCLTV',\n",
       " 'NUM_BO',\n",
       " 'DTI',\n",
       " 'FIRST_FLAG',\n",
       " 'PURPOSE',\n",
       " 'PROP',\n",
       " 'NO_UNITS',\n",
       " 'OCC_STAT',\n",
       " 'STATE',\n",
       " 'ZIP',\n",
       " 'MI_PCT',\n",
       " 'PRODUCT',\n",
       " 'RELOCATION_MORTGAGE_INDICATOR']"
      ]
     },
     "execution_count": 11,
     "metadata": {},
     "output_type": "execute_result"
    }
   ],
   "source": [
    "list(dict_rename_acq_cols.keys())"
   ]
  },
  {
   "cell_type": "code",
   "execution_count": 12,
   "id": "5f3fda06",
   "metadata": {},
   "outputs": [],
   "source": [
    "input_file_name = '2007Q4'\n",
    "output_file_name = input_file_name+'_BaseTable7'"
   ]
  },
  {
   "cell_type": "code",
   "execution_count": null,
   "id": "9ead62fd",
   "metadata": {},
   "outputs": [],
   "source": []
  },
  {
   "cell_type": "code",
   "execution_count": 13,
   "id": "55e19a5c",
   "metadata": {},
   "outputs": [
    {
     "data": {
      "text/plain": [
       "datetime.timedelta(seconds=121, microseconds=405338)"
      ]
     },
     "execution_count": 13,
     "metadata": {},
     "output_type": "execute_result"
    }
   ],
   "source": [
    "start_time = datetime.datetime.now()\n",
    "#df = dd.read_csv('2010Q1.csv', sep='|', header = None,dtype=object)\n",
    "#df = pd.read_csv('2010Q3.csv', dtype = dict_column_types)\n",
    "df = pd.read_csv(input_file_name+'.csv', sep='|',header=None, dtype = dict_column_types)\n",
    "time_elapsed = datetime.datetime.now()-start_time\n",
    "df.columns = list_fannie_colnames\n",
    "time_elapsed"
   ]
  },
  {
   "cell_type": "code",
   "execution_count": null,
   "id": "7b832e8c",
   "metadata": {},
   "outputs": [],
   "source": [
    " "
   ]
  },
  {
   "cell_type": "code",
   "execution_count": 14,
   "id": "69a4224d",
   "metadata": {},
   "outputs": [],
   "source": [
    "df.iloc[:,list_date_cols]=df.iloc[:,list_date_cols].apply(pd.to_datetime, format='%m%Y')"
   ]
  },
  {
   "cell_type": "code",
   "execution_count": 15,
   "id": "227030a6",
   "metadata": {},
   "outputs": [],
   "source": [
    "df['repch_flag']=(df['RPRCH_DTE'].isna()).astype(int)"
   ]
  },
  {
   "cell_type": "code",
   "execution_count": 16,
   "id": "b6518dfe",
   "metadata": {},
   "outputs": [],
   "source": [
    "df_acquisition_data = df.loc[df.groupby('LOAN_ID')['ACT_PERIOD'].idxmin(),list_acquisition_cols]"
   ]
  },
  {
   "cell_type": "code",
   "execution_count": 17,
   "id": "3dd36be3",
   "metadata": {},
   "outputs": [],
   "source": [
    "df_acquisition_data=df_acquisition_data.rename(columns =dict_rename_acq_cols)"
   ]
  },
  {
   "cell_type": "code",
   "execution_count": 18,
   "id": "ff111384",
   "metadata": {},
   "outputs": [],
   "source": [
    "df_acquisition_data = df_acquisition_data.replace({'MI_TYPE':{'1':'BPMI','2':'LPMI','3':'IPMI'}})\n",
    "df_acquisition_data.loc[~df_acquisition_data['MI_TYPE'].isin(['BPMI','LPMI','IPMI']),'MI_TYPE']='None'"
   ]
  },
  {
   "cell_type": "code",
   "execution_count": 19,
   "id": "4de97e2b",
   "metadata": {},
   "outputs": [],
   "source": [
    "df_acquisition_data['ocltv'].fillna(df_acquisition_data['oltv'], inplace = True)\n",
    "df_acquisition_data=df_acquisition_data.rename(columns = {'first_pay':'FRST_DTE', 'orig_date':'ORIG_DTE'})"
   ]
  },
  {
   "cell_type": "code",
   "execution_count": null,
   "id": "28c870ee",
   "metadata": {},
   "outputs": [],
   "source": []
  },
  {
   "cell_type": "markdown",
   "id": "b4f16b19",
   "metadata": {},
   "source": [
    "### Prepare the Performance variables"
   ]
  },
  {
   "cell_type": "code",
   "execution_count": 20,
   "id": "3b94bc4f",
   "metadata": {},
   "outputs": [],
   "source": [
    "df_performance_data = df[list_performance_cols].copy()\n",
    "df_performance_data = df_performance_data.rename(columns = dict_rename_perf_cols)"
   ]
  },
  {
   "cell_type": "code",
   "execution_count": 21,
   "id": "24d563cc",
   "metadata": {},
   "outputs": [],
   "source": [
    "df_temp = df_performance_data[['LOAN_ID','period']]\n",
    "df_last_activity_date = df_temp.loc[df_temp.groupby('LOAN_ID')['period'].idxmax(),:]\n",
    "df_last_activity_date = df_last_activity_date.rename(columns ={'period':'LAST_ACTIVITY_DATE'})"
   ]
  },
  {
   "cell_type": "code",
   "execution_count": null,
   "id": "a7e8598c",
   "metadata": {},
   "outputs": [],
   "source": [
    "df_temp = df_performance_data[['LOAN_ID','period','act_upb']]\n",
    "df_last_unpd_balance = df_temp.loc[df_temp[df_temp['act_upb']>0].groupby('LOAN_ID')['period'].idxmax(),:]\n",
    "df_last_unpd_balance= df_last_unpd_balance.rename(columns={'period':'LAST_UPB_DATE','act_upb':'LAST_UPB'})\n",
    "df_last_unpd_balance = df_last_unpd_balance[['LOAN_ID','LAST_UPB']]"
   ]
  },
  {
   "cell_type": "code",
   "execution_count": null,
   "id": "e5814903",
   "metadata": {},
   "outputs": [],
   "source": [
    "df_temp = df_performance_data[['LOAN_ID','period','curr_rte']]\n",
    "dfLastRate = df_temp.loc[df_temp[df_temp['curr_rte']>0].groupby('LOAN_ID')['period'].idxmax(),:]\n",
    "dfLastRate = dfLastRate.rename(columns = {'curr_rte':'LAST_RT','period':'LAST_RT_DATE'})"
   ]
  },
  {
   "cell_type": "code",
   "execution_count": null,
   "id": "44a73ae3",
   "metadata": {},
   "outputs": [],
   "source": [
    "df_temp = df_performance_data[['LOAN_ID','period','z_zb_code']]\n",
    "df_zb_code = df_temp.loc[df_temp[df_temp['z_zb_code'].isna()==False].groupby('LOAN_ID')['period'].idxmax(),:]\n",
    "df_zb_code = df_zb_code.rename(columns={'period':'ZB_CODE_DT','z_zb_code' : 'zb_code'})\n"
   ]
  },
  {
   "cell_type": "code",
   "execution_count": null,
   "id": "9bc9657c",
   "metadata": {},
   "outputs": [],
   "source": []
  },
  {
   "cell_type": "code",
   "execution_count": null,
   "id": "648ebed8",
   "metadata": {},
   "outputs": [],
   "source": [
    "df_max_table = pd.merge(df_last_activity_date,df_performance_data, left_on=['LOAN_ID','LAST_ACTIVITY_DATE'], \n",
    "                  right_on =['LOAN_ID','period'], how = 'left' )\n",
    "df_max_table = pd.merge(df_max_table, df_last_unpd_balance, left_on = ['LOAN_ID'], right_on = ['LOAN_ID'], how = 'left')\n",
    "\n",
    "df_max_table = pd.merge(df_max_table, dfLastRate, left_on = ['LOAN_ID'], right_on = ['LOAN_ID'], how = 'left')\n",
    "\n",
    "df_max_table = pd.merge(df_max_table, df_zb_code, left_on = ['LOAN_ID'], right_on = ['LOAN_ID'], how = 'left')\n"
   ]
  },
  {
   "cell_type": "code",
   "execution_count": null,
   "id": "8a859aa1",
   "metadata": {},
   "outputs": [],
   "source": [
    "df_temp = df_performance_data[['LOAN_ID','period','servicer']]\n",
    "\n",
    "df_last_servicer = df_temp.loc[df_temp[df_temp['servicer'].isna()==False].groupby('LOAN_ID')['period'].idxmax(),\n",
    "                            ['LOAN_ID','servicer']]\n",
    "\n",
    "df_last_servicer = df_last_servicer.rename(columns={'servicer':'SERVICER'})"
   ]
  },
  {
   "cell_type": "code",
   "execution_count": null,
   "id": "13213f4a",
   "metadata": {},
   "outputs": [],
   "source": []
  },
  {
   "cell_type": "code",
   "execution_count": null,
   "id": "7c61ef9d",
   "metadata": {},
   "outputs": [],
   "source": [
    "df_performance_data['non_int_upb']=df_performance_data['non_int_upb'].fillna(0)\n",
    "df_nonint_upb  = df_performance_data[['LOAN_ID','non_int_upb']].\\\n",
    "                groupby('LOAN_ID')['non_int_upb'].max()\n",
    "\n",
    "df_nonint_upb=df_nonint_upb.to_frame().reset_index()\n",
    "df_nonint_upb=df_nonint_upb.rename(columns = {'non_int_upb':'NON_INT_UPB'})"
   ]
  },
  {
   "cell_type": "code",
   "execution_count": null,
   "id": "17a39211",
   "metadata": {},
   "outputs": [],
   "source": []
  },
  {
   "cell_type": "code",
   "execution_count": null,
   "id": "71d01881",
   "metadata": {},
   "outputs": [],
   "source": [
    "df_base_table2 = pd.merge(df_acquisition_data, df_max_table, left_on =['LOAN_ID'], right_on = ['LOAN_ID'], how = 'left')\n",
    "df_base_table2 = pd.merge(df_base_table2, df_last_servicer, left_on = ['LOAN_ID'], right_on =['LOAN_ID'], how = 'left')\n",
    "df_base_table2 = pd.merge(df_base_table2, df_nonint_upb, left_on = ['LOAN_ID'], right_on =['LOAN_ID'], how='left')\n",
    "\n",
    "\n"
   ]
  },
  {
   "cell_type": "markdown",
   "id": "c385c75f",
   "metadata": {},
   "source": [
    "### ForeClosure and Delinquency Tables (30, 60, 90, 120, 180 etc)"
   ]
  },
  {
   "cell_type": "code",
   "execution_count": null,
   "id": "d28797e2",
   "metadata": {},
   "outputs": [],
   "source": [
    "df_fcc_table  = df_performance_data[(df_performance_data['lpi_dte'].isna()==False) & \n",
    "        (df_performance_data['fcc_dte'].isna()==False) &\n",
    "        (df_performance_data['disp_dte'].isna()==False)]"
   ]
  },
  {
   "cell_type": "code",
   "execution_count": null,
   "id": "fe8ce955",
   "metadata": {},
   "outputs": [],
   "source": []
  },
  {
   "cell_type": "code",
   "execution_count": null,
   "id": "e796f63e",
   "metadata": {},
   "outputs": [],
   "source": [
    "df_fcc_table= df_fcc_table.groupby(['LOAN_ID']).agg({'lpi_dte':'max', 'fcc_dte':'max',\n",
    "                                     'disp_dte':'max'}).reset_index()\n",
    "\n",
    "\n",
    "df_fcc_table = df_fcc_table.rename(columns = {'lpi_dte':'LPI_DTE',\n",
    "                                         'fcc_dte':'FCC_DTE',\n",
    "                                         'disp_dte':'DISP_DTE'})"
   ]
  },
  {
   "cell_type": "code",
   "execution_count": null,
   "id": "3e86a73f",
   "metadata": {},
   "outputs": [],
   "source": [
    "df_base_table3 = pd.merge(df_base_table2, df_fcc_table, left_on =['LOAN_ID'], right_on =['LOAN_ID'], how = 'left')"
   ]
  },
  {
   "cell_type": "code",
   "execution_count": null,
   "id": "5b076cfd",
   "metadata": {},
   "outputs": [],
   "source": [
    "df_slim_perf_file = df_performance_data[['LOAN_ID', 'period', 'dlq_status', 'z_zb_code', 'act_upb', \n",
    "                                           'zb_upb', 'mod_ind', 'maturity_date', 'rem_mths']]\n",
    "\n",
    "df_slim_perf_file.loc[:,'dlq_status']=df_slim_perf_file['dlq_status'].replace({'XX':999}).astype(float)"
   ]
  },
  {
   "cell_type": "code",
   "execution_count": null,
   "id": "2f3c2ab4",
   "metadata": {},
   "outputs": [],
   "source": [
    "df_temp = df_slim_perf_file[(df_slim_perf_file['dlq_status']>=1) & \\\n",
    "                                   (df_slim_perf_file['dlq_status']<999) & \\\n",
    "                                    (df_slim_perf_file['z_zb_code'].isna()==True)]\n",
    "\n",
    "df_f30_table = df_temp.loc[df_temp.groupby('LOAN_ID')['period'].idxmin(),['LOAN_ID','period','act_upb']]\n",
    "df_f30_table = df_f30_table.rename(columns= {'period':'F30_DTE','act_upb':'F30_UPB'})\n"
   ]
  },
  {
   "cell_type": "code",
   "execution_count": null,
   "id": "2bedc467",
   "metadata": {},
   "outputs": [],
   "source": [
    "df_temp = df_slim_perf_file[(df_slim_perf_file['dlq_status']>=2) & \\\n",
    "                                   (df_slim_perf_file['dlq_status']<999) & \\\n",
    "                                    (df_slim_perf_file['z_zb_code'].isna()==True)]\n",
    "\n",
    "df_f60_table = df_temp.loc[df_temp.groupby('LOAN_ID')['period'].idxmin(),['LOAN_ID','period','act_upb']]\n",
    "df_f60_table = df_f60_table.rename(columns= {'period':'F60_DTE','act_upb':'F60_UPB'})\n",
    "\n"
   ]
  },
  {
   "cell_type": "code",
   "execution_count": null,
   "id": "68adda62",
   "metadata": {},
   "outputs": [],
   "source": [
    "df_temp = df_slim_perf_file[(df_slim_perf_file['dlq_status']>=3) & \\\n",
    "                                   (df_slim_perf_file['dlq_status']<999) & \\\n",
    "                                    (df_slim_perf_file['z_zb_code'].isna()==True)]\n",
    "\n",
    "df_f90_table = df_temp.loc[df_temp.groupby('LOAN_ID')['period'].idxmin(),['LOAN_ID','period','act_upb']]\n",
    "df_f90_table = df_f90_table.rename(columns= {'period':'F90_DTE','act_upb':'F90_UPB'})\n",
    "\n",
    "\n"
   ]
  },
  {
   "cell_type": "code",
   "execution_count": null,
   "id": "6de46c5c",
   "metadata": {},
   "outputs": [],
   "source": [
    "df_temp = df_slim_perf_file[(df_slim_perf_file['dlq_status']>=4) & \\\n",
    "                                   (df_slim_perf_file['dlq_status']<999) & \\\n",
    "                                    (df_slim_perf_file['z_zb_code'].isna()==True)]\n",
    "\n",
    "df_f120_table = df_temp.loc[df_temp.groupby('LOAN_ID')['period'].idxmin(),['LOAN_ID','period','act_upb']]\n",
    "df_f120_table = df_f120_table.rename(columns= {'period':'F120_DTE','act_upb':'F120_UPB'})\n",
    "\n",
    "\n",
    "\n"
   ]
  },
  {
   "cell_type": "code",
   "execution_count": null,
   "id": "e172e3e2",
   "metadata": {},
   "outputs": [],
   "source": [
    "df_temp = df_slim_perf_file[(df_slim_perf_file['dlq_status']>=6) & \\\n",
    "                                   (df_slim_perf_file['dlq_status']<999) & \\\n",
    "                                    (df_slim_perf_file['z_zb_code'].isna()==True)]\n",
    "\n",
    "df_f180_table = df_temp.loc[df_temp.groupby('LOAN_ID')['period'].idxmin(),['LOAN_ID','period','act_upb']]\n",
    "df_f180_table = df_f180_table.rename(columns= {'period':'F180_DTE','act_upb':'F180_UPB'})\n",
    "\n",
    "\n",
    "\n",
    "\n"
   ]
  },
  {
   "cell_type": "code",
   "execution_count": null,
   "id": "8f6207b0",
   "metadata": {},
   "outputs": [],
   "source": [
    "\n",
    "df_temp = df_slim_perf_file[df_slim_perf_file['z_zb_code'].isin(['02','03','09','15'])| \n",
    "                               ((df_slim_perf_file['dlq_status']>=6) &\n",
    "                                (df_slim_perf_file['dlq_status']<999))]\n",
    "\n",
    "df_fce_table = df_temp.loc[df_temp.groupby('LOAN_ID')['period'].idxmin(),['LOAN_ID','period','act_upb','zb_upb']]\n",
    "\n",
    "df_fce_table['FCE_UPB'] = df_fce_table['act_upb']+df_fce_table['zb_upb']\n",
    "\n",
    "df_fce_table = df_fce_table.rename(columns = {'period':'FCE_DTE'})\n",
    "\n",
    "df_fce_table = df_fce_table[['LOAN_ID','FCE_DTE','FCE_UPB']]\n",
    "                                                                \n",
    "                                                                "
   ]
  },
  {
   "cell_type": "markdown",
   "id": "13ee3cf1",
   "metadata": {},
   "source": [
    "### Modifications Table"
   ]
  },
  {
   "cell_type": "code",
   "execution_count": null,
   "id": "e1507f29",
   "metadata": {},
   "outputs": [],
   "source": [
    "df_temp = df_slim_perf_file[(df_slim_perf_file['mod_ind']=='Y') & \n",
    "                               (df_slim_perf_file['z_zb_code'].isna()==True)]\n",
    "\n",
    "df_fmod_date_table = df_temp.loc[df_temp.groupby('LOAN_ID')['period'].idxmin(),['LOAN_ID','period']]\n",
    "df_fmod_date_table=df_fmod_date_table.rename(columns={'period':'FMOD_DTE'})"
   ]
  },
  {
   "cell_type": "code",
   "execution_count": null,
   "id": "384177fd",
   "metadata": {
    "scrolled": true
   },
   "outputs": [],
   "source": [
    "df_temp = df_slim_perf_file[(df_slim_perf_file['mod_ind']=='Y') & \n",
    "                               (df_slim_perf_file['z_zb_code'].isna()==True)]\n",
    "df_fmod_table = pd.merge(df_temp, df_fmod_date_table, left_on =['LOAN_ID'], right_on =['LOAN_ID'], how ='left')\n",
    "df_fmod_table=df_fmod_table[(df_fmod_table['period']-df_fmod_table['FMOD_DTE'])/np.timedelta64(1, 'M')>=3]\n",
    "\n",
    "\n",
    "df_fmod_table=df_fmod_table.groupby('LOAN_ID')['act_upb'].max().rename('FMOD_UPB').to_frame().reset_index()\n",
    "\n",
    "df_fmod_table = pd.merge(df_fmod_table,df_fmod_date_table, left_on = 'LOAN_ID', right_on ='LOAN_ID', how = 'left')\n",
    "df_fmod_table = pd.merge(df_fmod_table,df_slim_perf_file, left_on =['LOAN_ID','FMOD_DTE'], right_on =\n",
    "                           ['LOAN_ID', 'period'], how = 'left')\n",
    "df_fmod_table=df_fmod_table[['LOAN_ID','FMOD_DTE','FMOD_UPB','maturity_date']]"
   ]
  },
  {
   "cell_type": "code",
   "execution_count": null,
   "id": "84597f66",
   "metadata": {},
   "outputs": [],
   "source": []
  },
  {
   "cell_type": "code",
   "execution_count": null,
   "id": "483617c3",
   "metadata": {},
   "outputs": [],
   "source": []
  },
  {
   "cell_type": "code",
   "execution_count": null,
   "id": "43b6873b",
   "metadata": {},
   "outputs": [],
   "source": [
    "df_num120_table = pd.merge(df_f120_table, df_acquisition_data, left_on = 'LOAN_ID', right_on ='LOAN_ID', how = 'left')\n",
    "df_num120_table['z_num_periods_120'] = ((df_num120_table['F120_DTE']-df_num120_table['FRST_DTE'])/np.timedelta64(1,'M')).astype(int)+1\n",
    "df_num120_table = df_num120_table[['LOAN_ID','z_num_periods_120']]"
   ]
  },
  {
   "cell_type": "code",
   "execution_count": null,
   "id": "68400183",
   "metadata": {},
   "outputs": [],
   "source": [
    "df_orig_mat_table = df_slim_perf_file.loc[df_slim_perf_file['maturity_date'].isna()==False, \n",
    "                                           ['LOAN_ID','period', 'maturity_date']]\n",
    "df_orig_mat_table=df_orig_mat_table.loc[df_orig_mat_table.groupby('LOAN_ID')['period'].idxmin(),['LOAN_ID','maturity_date']]\n",
    "df_orig_mat_table=df_orig_mat_table.rename(columns={'maturity_date':'orig_maturity_date'})"
   ]
  },
  {
   "cell_type": "code",
   "execution_count": null,
   "id": "89a0ec6d",
   "metadata": {},
   "outputs": [],
   "source": [
    "df_trm_chng_table = df_slim_perf_file[['LOAN_ID','period','rem_mths']]\n",
    "df_trm_chng_table.groupby('LOAN_ID')['rem_mths'].diff()"
   ]
  },
  {
   "cell_type": "code",
   "execution_count": null,
   "id": "95dc5137",
   "metadata": {},
   "outputs": [],
   "source": []
  },
  {
   "cell_type": "code",
   "execution_count": null,
   "id": "8778219c",
   "metadata": {},
   "outputs": [],
   "source": [
    "df_trm_chng_table = df_slim_perf_file.sort_values(['LOAN_ID','period'])\n",
    "df_trm_chng_table['did_trm_chng'] = df_trm_chng_table.groupby('LOAN_ID')['rem_mths'].diff(1)\n",
    "df_trm_chng_table = df_trm_chng_table[df_trm_chng_table['did_trm_chng']>=0]\n",
    "df_trm_chng_table = df_trm_chng_table.loc[df_trm_chng_table.groupby('LOAN_ID')['period'].idxmin(),['LOAN_ID','period']]\n",
    "df_trm_chng_table = df_trm_chng_table.rename(columns = {'period':'trm_chng_dt'})"
   ]
  },
  {
   "cell_type": "code",
   "execution_count": null,
   "id": "6a0f24ff",
   "metadata": {},
   "outputs": [],
   "source": [
    "df_mod_trm_table = pd.merge(df_fmod_table,df_orig_mat_table, left_on ='LOAN_ID', right_on ='LOAN_ID', how='left')\n",
    "df_mod_trm_table = pd.merge(df_mod_trm_table,df_trm_chng_table, left_on ='LOAN_ID', right_on ='LOAN_ID', how='left')\n",
    "\n",
    "\n",
    "df_mod_trm_table['MODTRM_CHNG']=np.where((df_mod_trm_table['orig_maturity_date']!=df_mod_trm_table['maturity_date'])|\n",
    "             (df_mod_trm_table['trm_chng_dt'].isna()==False),1,0)\n",
    "df_mod_trm_table=df_mod_trm_table[['LOAN_ID','MODTRM_CHNG']]\n"
   ]
  },
  {
   "cell_type": "code",
   "execution_count": null,
   "id": "bfbde7a9",
   "metadata": {},
   "outputs": [],
   "source": []
  },
  {
   "cell_type": "code",
   "execution_count": null,
   "id": "f909640b",
   "metadata": {},
   "outputs": [],
   "source": []
  },
  {
   "cell_type": "code",
   "execution_count": null,
   "id": "99f9dec4",
   "metadata": {},
   "outputs": [],
   "source": [
    "df_temp = pd.merge(df_slim_perf_file, df_fmod_table, \n",
    "                            left_on ='LOAN_ID', right_on ='LOAN_ID', how ='left')\n",
    "df_temp = df_temp[df_temp['period']<df_temp['FMOD_DTE']]\n",
    "\n",
    "\n",
    "df_pre_mod_upb_table = df_temp.loc[df_temp.groupby('LOAN_ID')['period'].idxmax(),['LOAN_ID','period','act_upb']]\n",
    "\n",
    "df_pre_mod_upb_table = df_pre_mod_upb_table.rename(columns ={'period':'pre_mod_period', 'act_upb':'pre_mod_upb'})\n",
    "df_pre_mod_upb_table = pd.merge(df_pre_mod_upb_table,df_slim_perf_file, left_on=['LOAN_ID','pre_mod_period'],\n",
    "                          right_on=['LOAN_ID','period'], how='left')\n"
   ]
  },
  {
   "cell_type": "code",
   "execution_count": null,
   "id": "7434a157",
   "metadata": {},
   "outputs": [],
   "source": []
  },
  {
   "cell_type": "code",
   "execution_count": null,
   "id": "746792db",
   "metadata": {},
   "outputs": [],
   "source": [
    "df_mod_upb_table = pd.merge(df_fmod_table, df_pre_mod_upb_table, left_on='LOAN_ID',right_on='LOAN_ID', how = 'left')\n",
    "df_mod_upb_table['MODUPB_CHNG'] = np.where(df_mod_upb_table['FMOD_UPB']>=df_mod_upb_table['pre_mod_upb'],1,0)\n",
    "\n",
    "df_mod_upb_table = df_mod_upb_table[['LOAN_ID','MODUPB_CHNG']]"
   ]
  },
  {
   "cell_type": "markdown",
   "id": "9b358bbc",
   "metadata": {},
   "source": [
    "### The Base Tables as defined in the Fannie R Code, I use BaseTable7 as the final output, which should be similar but not exact to the Fannie Mae R code output."
   ]
  },
  {
   "cell_type": "code",
   "execution_count": null,
   "id": "a71c0aa0",
   "metadata": {},
   "outputs": [],
   "source": [
    "df_base_table4 = pd.merge(df_base_table3, df_f30_table, left_on = 'LOAN_ID', right_on = 'LOAN_ID', how = 'left')\n",
    "df_base_table4 = pd.merge(df_base_table4, df_f60_table, left_on = 'LOAN_ID', right_on = 'LOAN_ID', how = 'left')\n",
    "df_base_table4 = pd.merge(df_base_table4, df_f90_table, left_on = 'LOAN_ID', right_on = 'LOAN_ID', how = 'left')\n",
    "df_base_table4 = pd.merge(df_base_table4, df_f120_table, left_on = 'LOAN_ID', right_on = 'LOAN_ID', how = 'left')\n",
    "df_base_table4 = pd.merge(df_base_table4, df_f180_table, left_on = 'LOAN_ID', right_on = 'LOAN_ID', how = 'left')\n",
    "df_base_table4 = pd.merge(df_base_table4, df_fce_table, left_on = 'LOAN_ID', right_on = 'LOAN_ID', how = 'left')\n",
    "df_base_table4 = pd.merge(df_base_table4, df_fmod_table, left_on = 'LOAN_ID', right_on = 'LOAN_ID', how = 'left')\n",
    "df_base_table4 = pd.merge(df_base_table4, df_num120_table, left_on = 'LOAN_ID', right_on = 'LOAN_ID', how = 'left')\n",
    "df_base_table4 = pd.merge(df_base_table4, df_mod_trm_table, left_on = 'LOAN_ID', right_on = 'LOAN_ID', how = 'left')\n",
    "df_base_table4 = pd.merge(df_base_table4, df_mod_upb_table, left_on = 'LOAN_ID', right_on = 'LOAN_ID', how = 'left')\n"
   ]
  },
  {
   "cell_type": "code",
   "execution_count": null,
   "id": "ade8d48b",
   "metadata": {},
   "outputs": [],
   "source": [
    "df_base_table4['F30_UPB']= np.where((df_base_table4['F30_UPB'].isna()==True) & (df_base_table4['F30_DTE'].isna()==False), \n",
    "         df_base_table4['orig_amt'], df_base_table4['F30_UPB'])\n",
    "\n",
    "df_base_table4['F60_UPB'] = np.where((df_base_table4['F60_UPB'].isna()==True) & (df_base_table4['F60_DTE'].isna()==False), \n",
    "         df_base_table4['orig_amt'], df_base_table4['F60_UPB'])\n",
    "\n",
    "df_base_table4['F90_UPB'] = np.where((df_base_table4['F90_UPB'].isna()==True) & (df_base_table4['F90_DTE'].isna()==False), \n",
    "         df_base_table4['orig_amt'], df_base_table4['F90_UPB'])\n",
    "\n",
    "df_base_table4['F120_UPB'] = np.where((df_base_table4['F120_UPB'].isna()==True) & (df_base_table4['F120_DTE'].isna()==False), \n",
    "         df_base_table4['orig_amt'], df_base_table4['F120_UPB'])\n",
    "\n",
    "df_base_table4['F180_UPB'] = np.where((df_base_table4['F180_UPB'].isna()==True) & (df_base_table4['F180_DTE'].isna()==False), \n",
    "         df_base_table4['orig_amt'], df_base_table4['F180_UPB'])\n",
    "\n",
    "\n",
    "df_base_table4['FCE_UPB'] = np.where((df_base_table4['FCE_UPB'].isna()==True) & (df_base_table4['FCE_DTE'].isna()==False), \n",
    "         df_base_table4['orig_amt'], df_base_table4['FCE_UPB'])\n",
    "\n",
    "\n",
    "\n",
    "\n",
    "\n"
   ]
  },
  {
   "cell_type": "code",
   "execution_count": null,
   "id": "87e0686a",
   "metadata": {},
   "outputs": [],
   "source": [
    "df_base_table5 = df_base_table4.copy()"
   ]
  },
  {
   "cell_type": "code",
   "execution_count": null,
   "id": "e5f77333",
   "metadata": {},
   "outputs": [],
   "source": [
    "df_base_table5['LAST_DTE'] = np.where(df_base_table5['disp_dte'].isna()==False, \n",
    "                                    df_base_table5['disp_dte'], df_base_table5['LAST_ACTIVITY_DATE'])\n",
    "\n",
    "df_base_table5['repch_flag'] = np.where(df_base_table5['repch_flag']=='Y', \n",
    "                                    1, 0)\n",
    "\n",
    "\n",
    "df_base_table5['PFG_COST']=df_base_table5['prin_forg_upb']\n",
    "\n",
    "df_base_table5['MOD_FLAG'] = np.where(df_base_table5['FMOD_DTE'].isna()==False,1, 0)\n",
    "\n",
    "df_base_table5['MODFG_COST'] = np.where((df_base_table5['mod_ind']=='Y')&(df_base_table5['PFG_COST']>0), \n",
    "                                      df_base_table5['PFG_COST'], 0)\n",
    "\n",
    "\n",
    "df_base_table5['MODTRM_CHNG'] = np.where(df_base_table5['MODTRM_CHNG'].isna()==True,0, df_base_table5['MODTRM_CHNG'])\n",
    "\n",
    "df_base_table5['MODUPB_CHNG'] = np.where(df_base_table5['MODUPB_CHNG'].isna()==True,0, df_base_table5['MODUPB_CHNG'])\n",
    "\n",
    "df_base_table5['CSCORE_MN'] = np.where((df_base_table5['CSCORE_C'].isna()==False)&\n",
    "                                     (df_base_table5['CSCORE_C']<df_base_table5['CSCORE_B']),\n",
    "                                     df_base_table5['CSCORE_C'],df_base_table5['CSCORE_B'])\n",
    "\n",
    "df_base_table5['CSCORE_MN'] = np.where(df_base_table5['CSCORE_MN'].isna()==True, \n",
    "                                     df_base_table5['CSCORE_B'],df_base_table5['CSCORE_MN'])\n",
    "\n",
    "\n",
    "df_base_table5['ORIG_VAL'] = df_base_table5['orig_amt']/ (df_base_table5['oltv']/100)\n",
    "\n",
    "df_base_table5['dlq_status'] = np.where((df_base_table5['dlq_status']=='X')|(df_base_table5['dlq_status']=='XX'),\n",
    "                                      '999',df_base_table5['dlq_status'])\n",
    "\n",
    "df_base_table5['z_last_status']=df_base_table5['dlq_status'].astype(float)\n",
    "\n",
    "df_base_table5['LAST_STAT']='X'\n",
    "df_base_table5['LAST_STAT'] = df_base_table5['zb_code'].replace({'09':'F','03':'S','02':'T','06':'R','15':'N','16':'L','01':'P'})\n",
    "                            \n",
    "df_base_table5.loc[(df_base_table5['z_last_status']<999) & (df_base_table5['z_last_status']>=9),'LAST_STAT']='9'\n",
    "mask = df_base_table5['z_last_status'].isin([8,7,6,5,4,3,2,1])\n",
    "df_base_table5.loc[mask, 'LAST_STAT'] = df_base_table5.loc[mask, 'z_last_status'].astype(int).astype(str)\n",
    "\n",
    "df_base_table5['LAST_STAT']=np.where(df_base_table5['z_last_status']==0,'C',df_base_table5['LAST_STAT'])\n",
    "\n",
    "df_base_table5['FCC_DTE'] = np.where((df_base_table5['FCC_DTE'].isna()==True) &\n",
    "                                  (df_base_table5['LAST_STAT'].isin(['F','S','N','T'])),\n",
    "                                   df_base_table5['zb_date'],df_base_table5['FCC_DTE'])\n",
    "\n",
    "df_base_table5['COMPLT_FLG'] = np.where(df_base_table5['DISP_DTE'].isna()==False,1,0)\n",
    "df_base_table5['COMPLT_FLG'] = np.where(~df_base_table5['LAST_STAT'].isin(['F','S','N','T']),\n",
    "                                      np.nan,df_base_table5['COMPLT_FLG'])\n",
    "\n",
    "\n",
    "df_base_table5['INT_COST'] = np.where((df_base_table5['COMPLT_FLG']==1) & (df_base_table5['LPI_DTE'].isna()==False),\n",
    "                                                 df_base_table5['LAST_UPB']-df_base_table5['NON_INT_UPB'],np.nan)\n",
    "\n",
    "\n",
    "df_base_table5['INT_COST_MONTHS'] = np.where((df_base_table5['COMPLT_FLG']==1) & (df_base_table5['LPI_DTE'].isna()==False),\n",
    "                                    (df_base_table5['LAST_DTE']-df_base_table5['LPI_DTE'])/np.timedelta64(1, 'M'),\n",
    "                                           np.nan)\n",
    "\n",
    "df_base_table5['INT_COST'] = np.where((df_base_table5['COMPLT_FLG']==1) & (df_base_table5['LPI_DTE'].isna()==False),\n",
    "                                                 (df_base_table5['LAST_UPB']-df_base_table5['NON_INT_UPB'])*\\\n",
    "                                    df_base_table5['INT_COST_MONTHS']*(df_base_table5['LAST_RT']/100-0.0035)/12\n",
    "                                    ,np.nan)\n",
    "\n",
    "df_base_table5['INT_COST'] = np.where((df_base_table5['COMPLT_FLG']==1) &(df_base_table5['INT_COST'].isna()==True),\n",
    "                                    0,df_base_table5['INT_COST'])\n",
    "\n",
    "df_base_table5=df_base_table5.drop('INT_COST_MONTHS',axis = 1)\n",
    "\n",
    "df_base_table5['FCC_COST'] = np.where((df_base_table5['COMPLT_FLG']==1) &(df_base_table5['FCC_COST'].isna()==True),\n",
    "                                    0,df_base_table5['FCC_COST'])\n",
    "df_base_table5['PP_COST'] = np.where((df_base_table5['COMPLT_FLG']==1) &(df_base_table5['PP_COST'].isna()==True),\n",
    "                                    0,df_base_table5['PP_COST'])\n",
    "\n",
    "df_base_table5['AR_COST'] = np.where((df_base_table5['COMPLT_FLG']==1) &(df_base_table5['AR_COST'].isna()==True),\n",
    "                                    0,df_base_table5['AR_COST'])\n",
    "\n",
    "df_base_table5['IE_COST'] = np.where((df_base_table5['COMPLT_FLG']==1) &(df_base_table5['IE_COST'].isna()==True),\n",
    "                                    0,df_base_table5['IE_COST'])\n",
    "\n",
    "df_base_table5['TAX_COST'] = np.where((df_base_table5['COMPLT_FLG']==1) &(df_base_table5['TAX_COST'].isna()==True),\n",
    "                                    0,df_base_table5['TAX_COST'])\n",
    "\n",
    "\n",
    "df_base_table5['PFG_COST'] = np.where((df_base_table5['COMPLT_FLG']==1) &(df_base_table5['PFG_COST'].isna()==True),\n",
    "                                    0,df_base_table5['PFG_COST'])\n",
    "\n",
    "\n",
    "\n",
    "df_base_table5['CE_PROCS'] = np.where((df_base_table5['COMPLT_FLG']==1) &(df_base_table5['CE_PROCS'].isna()==True),\n",
    "                                    0,df_base_table5['CE_PROCS'])\n",
    "\n",
    "\n",
    "df_base_table5['NS_PROCS'] = np.where((df_base_table5['COMPLT_FLG']==1) &(df_base_table5['NS_PROCS'].isna()==True),\n",
    "                                    0,df_base_table5['NS_PROCS'])\n",
    "\n",
    "\n",
    "df_base_table5['RMW_PROCS'] = np.where((df_base_table5['COMPLT_FLG']==1) &(df_base_table5['RMW_PROCS'].isna()==True),\n",
    "                                    0,df_base_table5['RMW_PROCS'])\n",
    "\n",
    "df_base_table5['O_PROCS'] = np.where((df_base_table5['COMPLT_FLG']==1) &(df_base_table5['O_PROCS'].isna()==True),\n",
    "                                    0,df_base_table5['O_PROCS'])\n",
    "\n",
    "df_base_table5['NET_LOSS'] = np.where((df_base_table5['COMPLT_FLG']==1),df_base_table5['LAST_UPB']+\n",
    "                                    df_base_table5['FCC_COST']+\n",
    "                                    df_base_table5['PP_COST']+\n",
    "                                    df_base_table5['AR_COST']+\n",
    "                                    df_base_table5['IE_COST']+\n",
    "                                    df_base_table5['TAX_COST']+\n",
    "                                    df_base_table5['PFG_COST']+\n",
    "                                    df_base_table5['INT_COST']-\n",
    "                                    df_base_table5['NS_PROCS']-\n",
    "                                    df_base_table5['CE_PROCS']-\n",
    "                                    df_base_table5['RMW_PROCS']-\n",
    "                                    df_base_table5['O_PROCS'],np.nan)\n",
    "                                    \n",
    "df_base_table5['NET_SEV'] = np.where((df_base_table5['COMPLT_FLG']==1), \n",
    "                                   df_base_table5['NET_LOSS']/df_base_table5['LAST_UPB'], np.nan)\n",
    "\n",
    " "
   ]
  },
  {
   "cell_type": "code",
   "execution_count": null,
   "id": "78772cd0",
   "metadata": {},
   "outputs": [],
   "source": [
    "\n"
   ]
  },
  {
   "cell_type": "code",
   "execution_count": null,
   "id": "e4c1ca3d",
   "metadata": {},
   "outputs": [],
   "source": [
    "df_temp = pd.merge(df_acquisition_data, df_performance_data, left_on = 'LOAN_ID', right_on = 'LOAN_ID', \n",
    "                         how = 'left')\n",
    "\n",
    "df_temp = df_temp.loc[df_temp['mod_ind']=='Y',:]\n",
    "df_temp['non_int_upb'] = np.where(df_temp['non_int_upb'].isna()==True,0,df_temp['non_int_upb'])\n",
    "df_temp['modir_cost'] = np.where(df_temp['mod_ind']=='Y',\n",
    "                                       (df_temp['orig_rt']-df_temp['curr_rte'])\\\n",
    "                                       /1200*df_temp['act_upb'],0)\n",
    "\n",
    "df_temp['modfb_cost'] = np.where((df_temp['mod_ind']=='Y')&(df_temp['non_int_upb']>0),\n",
    "                                       (df_temp['curr_rte'])/1200*df_temp['non_int_upb'],0)\n",
    "\n",
    "\n",
    "\n",
    "\n",
    "df_mod_dir_table = df_temp.groupby('LOAN_ID')[['modir_cost','modfb_cost']].agg('sum').\\\n",
    "                                rename(columns={'modir_cost':'MODIR_COST','modfb_cost':'MODFB_COST'})\n",
    "\n",
    "df_mod_dir_table['MODTOT_COST'] = df_mod_dir_table['MODIR_COST']+df_mod_dir_table['MODFB_COST']\n",
    "df_mod_dir_table=df_mod_dir_table.reset_index()\n",
    "\n"
   ]
  },
  {
   "cell_type": "code",
   "execution_count": null,
   "id": "94a8f57b",
   "metadata": {},
   "outputs": [],
   "source": []
  },
  {
   "cell_type": "code",
   "execution_count": null,
   "id": "011f181a",
   "metadata": {},
   "outputs": [],
   "source": [
    "df_base_table6 = pd.merge(df_base_table5, df_mod_dir_table, left_on = 'LOAN_ID', right_on='LOAN_ID', how ='left')\n",
    "df_base_table6['non_int_upb'] = np.where((df_base_table6['COMPLT_FLG']==1)&(df_base_table6['non_int_upb'].isna()==True),\n",
    "                                       0,df_base_table6['non_int_upb']) \n",
    "\n",
    "\n",
    "df_base_table6['MOD_COST_MONTHS'] = np.where((df_base_table6['COMPLT_FLG']==1),\n",
    "                                    (df_base_table5['LAST_DTE']-df_base_table5['zb_date'])/np.timedelta64(1, 'M'),\n",
    "                                           np.nan)\n",
    "\n",
    "\n",
    "df_base_table6['MODIR_COST'] = np.where((df_base_table6['COMPLT_FLG']==1),\n",
    "                                    df_base_table6['MOD_COST_MONTHS']*\\\n",
    "                                (df_base_table6['orig_rt']-df_base_table6['LAST_RT'])/\\\n",
    "                                      1200*df_base_table6['LAST_UPB']+\\\n",
    "                                      df_base_table6['MODIR_COST'],df_base_table6['MODIR_COST'])\n",
    "\n",
    "df_base_table6['MODFB_COST'] = np.where((df_base_table6['COMPLT_FLG']==1),\n",
    "                                    df_base_table6['MOD_COST_MONTHS']*\\\n",
    "                                (df_base_table6['LAST_RT'])/\\\n",
    "                                      1200*df_base_table6['non_int_upb']+\\\n",
    "                                      df_base_table6['MODFB_COST'],df_base_table6['MODFB_COST'])\n",
    "\n",
    "\n",
    "\n",
    "\n"
   ]
  },
  {
   "cell_type": "code",
   "execution_count": null,
   "id": "385738c2",
   "metadata": {},
   "outputs": [],
   "source": []
  },
  {
   "cell_type": "code",
   "execution_count": null,
   "id": "323c2a79",
   "metadata": {},
   "outputs": [],
   "source": []
  },
  {
   "cell_type": "code",
   "execution_count": null,
   "id": "11935b23",
   "metadata": {},
   "outputs": [],
   "source": [
    "list_base_table7_cols = ['LOAN_ID','ORIG_CHN','SELLER','orig_rt','orig_amt',\n",
    "  'orig_trm', 'oltv','ocltv', 'num_bo','dti','CSCORE_B','FTHB_FLG','purpose',\n",
    "    'PROP_TYP','NUM_UNIT','occ_stat','state','zip_3', 'mi_pct', 'CSCORE_C','relo_flg',\n",
    "    'MI_TYPE', 'AQSN_DTE','ORIG_DTE','FRST_DTE','LAST_RT','LAST_UPB','msa','FCC_COST',\n",
    "    'PP_COST','AR_COST','IE_COST','TAX_COST','NS_PROCS','CE_PROCS','RMW_PROCS','O_PROCS',\n",
    "    'repch_flag','LAST_ACTIVITY_DATE','LPI_DTE','FCC_DTE','DISP_DTE','SERVICER',\n",
    "    'F30_DTE','F60_DTE','F90_DTE','F120_DTE','F180_DTE','FCE_DTE','F180_UPB','FCE_UPB',\n",
    "    'F30_UPB','F60_UPB','F90_UPB','MOD_FLAG','FMOD_DTE','FMOD_UPB','MODIR_COST','MODFB_COST',\n",
    "  'MODFG_COST','MODTRM_CHNG','MODUPB_CHNG','z_num_periods_120','F120_UPB','CSCORE_MN','ORIG_VAL','LAST_DTE',\n",
    "    'LAST_STAT','COMPLT_FLG','INT_COST', 'PFG_COST', 'NET_LOSS','NET_SEV', 'MODTOT_COST']\n",
    "list_base_table7_cols.remove('AQSN_DTE')"
   ]
  },
  {
   "cell_type": "code",
   "execution_count": null,
   "id": "b9b84411",
   "metadata": {},
   "outputs": [],
   "source": [
    "df_base_table7 = df_base_table6[list_base_table7_cols]"
   ]
  },
  {
   "cell_type": "code",
   "execution_count": null,
   "id": "2c1af5bc",
   "metadata": {},
   "outputs": [],
   "source": [
    "df_base_table7.to_csv(output_file_name)"
   ]
  },
  {
   "cell_type": "code",
   "execution_count": null,
   "id": "f4f16b09",
   "metadata": {},
   "outputs": [],
   "source": []
  },
  {
   "cell_type": "code",
   "execution_count": null,
   "id": "7b85da11",
   "metadata": {},
   "outputs": [],
   "source": []
  },
  {
   "cell_type": "code",
   "execution_count": null,
   "id": "d2797d98",
   "metadata": {},
   "outputs": [],
   "source": []
  },
  {
   "cell_type": "code",
   "execution_count": null,
   "id": "164bcc45",
   "metadata": {},
   "outputs": [],
   "source": []
  },
  {
   "cell_type": "code",
   "execution_count": null,
   "id": "fb2c4011",
   "metadata": {},
   "outputs": [],
   "source": []
  },
  {
   "cell_type": "code",
   "execution_count": null,
   "id": "5202f46a",
   "metadata": {},
   "outputs": [],
   "source": []
  },
  {
   "cell_type": "code",
   "execution_count": null,
   "id": "cea10a44",
   "metadata": {},
   "outputs": [],
   "source": []
  },
  {
   "cell_type": "code",
   "execution_count": null,
   "id": "67b4fc0a",
   "metadata": {},
   "outputs": [],
   "source": []
  },
  {
   "cell_type": "code",
   "execution_count": null,
   "id": "44d80727",
   "metadata": {},
   "outputs": [],
   "source": []
  },
  {
   "cell_type": "code",
   "execution_count": null,
   "id": "4515e0c3",
   "metadata": {},
   "outputs": [],
   "source": []
  },
  {
   "cell_type": "code",
   "execution_count": null,
   "id": "e4156a7a",
   "metadata": {},
   "outputs": [],
   "source": []
  },
  {
   "cell_type": "code",
   "execution_count": null,
   "id": "8655bf98",
   "metadata": {},
   "outputs": [],
   "source": []
  },
  {
   "cell_type": "code",
   "execution_count": null,
   "id": "b560264f",
   "metadata": {},
   "outputs": [],
   "source": []
  },
  {
   "cell_type": "code",
   "execution_count": null,
   "id": "fa03365c",
   "metadata": {},
   "outputs": [],
   "source": []
  },
  {
   "cell_type": "code",
   "execution_count": null,
   "id": "e184a3b6",
   "metadata": {},
   "outputs": [],
   "source": []
  },
  {
   "cell_type": "code",
   "execution_count": null,
   "id": "14a66da7",
   "metadata": {},
   "outputs": [],
   "source": []
  },
  {
   "cell_type": "code",
   "execution_count": null,
   "id": "9eed8e6a",
   "metadata": {},
   "outputs": [],
   "source": []
  },
  {
   "cell_type": "code",
   "execution_count": null,
   "id": "485722c5",
   "metadata": {},
   "outputs": [],
   "source": []
  },
  {
   "cell_type": "code",
   "execution_count": null,
   "id": "a3ed8d64",
   "metadata": {},
   "outputs": [],
   "source": []
  },
  {
   "cell_type": "raw",
   "id": "2e9b2b41",
   "metadata": {},
   "source": []
  },
  {
   "cell_type": "code",
   "execution_count": null,
   "id": "e43b7dd5",
   "metadata": {},
   "outputs": [],
   "source": []
  },
  {
   "cell_type": "code",
   "execution_count": null,
   "id": "5fa1dcb1",
   "metadata": {},
   "outputs": [],
   "source": []
  },
  {
   "cell_type": "code",
   "execution_count": null,
   "id": "e22f6da3",
   "metadata": {},
   "outputs": [],
   "source": []
  },
  {
   "cell_type": "code",
   "execution_count": null,
   "id": "3a34e032",
   "metadata": {},
   "outputs": [],
   "source": []
  },
  {
   "cell_type": "code",
   "execution_count": null,
   "id": "9c09b600",
   "metadata": {},
   "outputs": [],
   "source": []
  },
  {
   "cell_type": "code",
   "execution_count": null,
   "id": "5da14640",
   "metadata": {},
   "outputs": [],
   "source": []
  },
  {
   "cell_type": "code",
   "execution_count": null,
   "id": "32b1c897",
   "metadata": {},
   "outputs": [],
   "source": []
  },
  {
   "cell_type": "code",
   "execution_count": null,
   "id": "5ef65d10",
   "metadata": {},
   "outputs": [],
   "source": []
  },
  {
   "cell_type": "code",
   "execution_count": null,
   "id": "11dedabf",
   "metadata": {},
   "outputs": [],
   "source": []
  },
  {
   "cell_type": "code",
   "execution_count": null,
   "id": "701d7ff7",
   "metadata": {},
   "outputs": [],
   "source": []
  },
  {
   "cell_type": "code",
   "execution_count": null,
   "id": "d0982bdd",
   "metadata": {},
   "outputs": [],
   "source": []
  },
  {
   "cell_type": "code",
   "execution_count": null,
   "id": "88594be0",
   "metadata": {},
   "outputs": [],
   "source": []
  },
  {
   "cell_type": "code",
   "execution_count": null,
   "id": "d7f32d7c",
   "metadata": {},
   "outputs": [],
   "source": []
  },
  {
   "cell_type": "code",
   "execution_count": null,
   "id": "9322329a",
   "metadata": {},
   "outputs": [],
   "source": []
  },
  {
   "cell_type": "code",
   "execution_count": null,
   "id": "46cf275c",
   "metadata": {},
   "outputs": [],
   "source": []
  }
 ],
 "metadata": {
  "kernelspec": {
   "display_name": "Python 3 (ipykernel)",
   "language": "python",
   "name": "python3"
  },
  "language_info": {
   "codemirror_mode": {
    "name": "ipython",
    "version": 3
   },
   "file_extension": ".py",
   "mimetype": "text/x-python",
   "name": "python",
   "nbconvert_exporter": "python",
   "pygments_lexer": "ipython3",
   "version": "3.9.7"
  }
 },
 "nbformat": 4,
 "nbformat_minor": 5
}
